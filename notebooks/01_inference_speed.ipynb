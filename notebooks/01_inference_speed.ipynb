{
 "cells": [
  {
   "cell_type": "markdown",
   "metadata": {},
   "source": [
    "This notebook produces the plots for failure rate and inference duration for all language models."
   ]
  },
  {
   "cell_type": "code",
   "execution_count": null,
   "metadata": {},
   "outputs": [],
   "source": [
    "import polars as pl\n",
    "import plotly.io as pio\n",
    "import plotly.express as px\n",
    "import plot_theme as pt\n",
    "\n",
    "# set theme\n",
    "pio.templates.default = \"plotly_white+cc\""
   ]
  },
  {
   "cell_type": "markdown",
   "metadata": {},
   "source": [
    "# Load dataframes"
   ]
  },
  {
   "cell_type": "code",
   "execution_count": null,
   "metadata": {},
   "outputs": [],
   "source": [
    "df = pl.read_parquet(\"../merged_metrics_v5.parquet\").with_columns(\n",
    "    pl.col(\"Param. count (B)\").round(2)\n",
    ")"
   ]
  },
  {
   "cell_type": "markdown",
   "metadata": {},
   "source": [
    "# Plot inference speed"
   ]
  },
  {
   "cell_type": "code",
   "execution_count": null,
   "metadata": {},
   "outputs": [],
   "source": [
    "inference_sorting = df.sort(\"Inference duration (s)\", descending=True)[\"model\"]\n",
    "\n",
    "fig = px.bar(\n",
    "    df,\n",
    "    x=\"model\",\n",
    "    y=\"Inference duration (s)\",\n",
    "    labels={\"model\": \"LLM\"},\n",
    "    category_orders={\"model\": inference_sorting},\n",
    "    log_y=True,\n",
    ").update_yaxes(tickvals=[1, 10])\n",
    "fig.update_traces(marker_color=\"#333\")\n",
    "pt.save(fig, \"inference_speed_plotly\")"
   ]
  },
  {
   "cell_type": "code",
   "execution_count": null,
   "metadata": {},
   "outputs": [],
   "source": [
    "fig = px.scatter(\n",
    "    df,\n",
    "    x=\"Param. count (B)\",\n",
    "    y=\"Inference duration (s)\",\n",
    "    color=\"model\",\n",
    "    log_x=True,\n",
    "    log_y=True,\n",
    "    labels={\"model\": \"LLM\"},\n",
    ")\n",
    "pt.save(fig, \"inference_speed_vs_param_count\")"
   ]
  },
  {
   "cell_type": "code",
   "execution_count": null,
   "metadata": {},
   "outputs": [],
   "source": []
  }
 ],
 "metadata": {
  "kernelspec": {
   "display_name": ".venv",
   "language": "python",
   "name": "python3"
  },
  "language_info": {
   "codemirror_mode": {
    "name": "ipython",
    "version": 3
   },
   "file_extension": ".py",
   "mimetype": "text/x-python",
   "name": "python",
   "nbconvert_exporter": "python",
   "pygments_lexer": "ipython3",
   "version": "3.12.9"
  }
 },
 "nbformat": 4,
 "nbformat_minor": 2
}
