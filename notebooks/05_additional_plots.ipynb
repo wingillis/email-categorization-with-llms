{
 "cells": [
  {
   "cell_type": "markdown",
   "metadata": {},
   "source": [
    "# Analyze structured outputs across LLMs"
   ]
  },
  {
   "cell_type": "code",
   "execution_count": null,
   "metadata": {},
   "outputs": [],
   "source": [
    "import polars as pl\n",
    "import numpy as np\n",
    "import plotly.io as pio\n",
    "import plotly.express as px\n",
    "from pathlib import Path\n",
    "from itertools import combinations\n",
    "from scipy.spatial.distance import pdist, squareform\n",
    "from scipy.cluster.hierarchy import linkage, leaves_list\n",
    "import plot_theme as pt"
   ]
  },
  {
   "cell_type": "code",
   "execution_count": null,
   "metadata": {},
   "outputs": [],
   "source": [
    "# set default theme\n",
    "pio.templates.default = \"plotly_white+cc\""
   ]
  },
  {
   "cell_type": "code",
   "execution_count": null,
   "metadata": {},
   "outputs": [],
   "source": [
    "folder = Path('../')\n",
    "files = list(folder.glob('structured*/*.parquet'))"
   ]
  },
  {
   "cell_type": "code",
   "execution_count": null,
   "metadata": {},
   "outputs": [],
   "source": [
    "keep_columns = ['primary_category', 'subject_suggestion', 'alternative_category', 'inference_duration', 'model', 'from', 'body', 'date', 'subject']\n",
    "\n",
    "df = pl.concat(pl.scan_parquet(f).select(keep_columns) for f in files).collect()"
   ]
  },
  {
   "cell_type": "code",
   "execution_count": null,
   "metadata": {},
   "outputs": [],
   "source": [
    "models = df['model'].unique().to_list()\n",
    "models"
   ]
  },
  {
   "cell_type": "code",
   "execution_count": null,
   "metadata": {},
   "outputs": [],
   "source": [
    "cat_col = \"primary_category\"\n",
    "aligned_categories = df.pivot(\n",
    "    index=[\"date\", \"body\", \"from\"], on=\"model\", values=cat_col, aggregate_function=\"first\"\n",
    ").with_columns(\n",
    "    all_equal=pl.concat_list(models).list.n_unique() == 1\n",
    ")\n",
    "aligned_categories.drop_nulls(subset=models)['all_equal'].mean()"
   ]
  },
  {
   "cell_type": "code",
   "execution_count": null,
   "metadata": {},
   "outputs": [],
   "source": [
    "model_cols = aligned_categories.select(models)\n",
    "value_counts = (\n",
    "    model_cols.unpivot(variable_name=\"model\", value_name=\"class\")\n",
    "    .fill_null(\"N/A\").filter(pl.col(\"class\") != \"N/A\")\n",
    "    .group_by(\"model\")\n",
    "    .agg(pl.col(\"class\").value_counts(sort=True))\n",
    "    .explode(\"class\")\n",
    "    .unnest(\"class\")\n",
    ")\n",
    "value_counts_pivot = value_counts.pivot(\n",
    "    on=\"model\", index=\"class\", values=\"count\"\n",
    ").fill_null(0)\n",
    "ordering = (\n",
    "    value_counts.fill_null(\"N/A\")\n",
    "    .group_by(\"class\")\n",
    "    .agg(pl.sum(\"count\"))\n",
    "    .sort(\"count\", descending=True)[\"class\"]\n",
    ")"
   ]
  },
  {
   "cell_type": "code",
   "execution_count": null,
   "metadata": {},
   "outputs": [],
   "source": [
    "dist = pdist(value_counts_pivot[:, 1:].to_numpy().T, metric=\"cosine\")\n",
    "leaves = leaves_list(linkage(dist, method=\"average\", optimal_ordering=True))\n",
    "\n",
    "model_cols = value_counts_pivot.columns[1:]\n",
    "re_ordered = [model_cols[i] for i in leaves]\n",
    "\n",
    "mapping = dict(enumerate(re_ordered))\n",
    "mapping = {f\"column_{k}\": v for k, v in mapping.items()}"
   ]
  },
  {
   "cell_type": "code",
   "execution_count": null,
   "metadata": {},
   "outputs": [],
   "source": [
    "_tmp = 1 - squareform(dist)[leaves][:, leaves]\n",
    "\n",
    "hm = pl.DataFrame(_tmp)\n",
    "hm = hm.rename(mapping)\n",
    "hm_pd = hm.to_pandas()\n",
    "hm_pd.index = hm.columns\n",
    "fig = px.imshow(\n",
    "    hm_pd,\n",
    "    color_continuous_scale=\"ice\",\n",
    "    labels=dict(color=\"Cosine similarity\", x=\"LLM\", y=\"LLM\"),\n",
    "    zmin=0.3,\n",
    "    height=650,\n",
    ")\n",
    "pt.save(fig, \"cosine_similarity_mtx\")"
   ]
  },
  {
   "cell_type": "markdown",
   "metadata": {},
   "source": [
    "## Compute \"overlap distance\"\n",
    "\n",
    "Defined as `1 - accuracy`"
   ]
  },
  {
   "cell_type": "code",
   "execution_count": null,
   "metadata": {},
   "outputs": [],
   "source": [
    "acc_mtx = np.zeros((len(model_cols), ) * 2)\n",
    "\n",
    "for (i, mdl), (j, mdl2) in combinations(enumerate(model_cols), 2):\n",
    "    acc = (aligned_categories[mdl] == aligned_categories[mdl2]).mean()\n",
    "    acc_mtx[i, j] = acc\n",
    "    acc_mtx[j, i] = acc\n",
    "\n",
    "acc_mtx[np.diag_indices_from(acc_mtx)] = 1"
   ]
  },
  {
   "cell_type": "code",
   "execution_count": null,
   "metadata": {},
   "outputs": [],
   "source": [
    "linkage_matrix = linkage(squareform(1 - acc_mtx), method=\"average\", optimal_ordering=True)\n",
    "leaves = leaves_list(linkage_matrix)\n",
    "acc_order = [model_cols[i] for i in leaves]\n",
    "\n",
    "mapping = dict(enumerate(acc_order))\n",
    "mapping = {f\"column_{k}\": v for k, v in mapping.items()}"
   ]
  },
  {
   "cell_type": "code",
   "execution_count": null,
   "metadata": {},
   "outputs": [],
   "source": [
    "_tmp = acc_mtx[leaves][:, leaves]\n",
    "\n",
    "hm = pl.DataFrame(_tmp * 100)\n",
    "hm = hm.rename(mapping)\n",
    "hm_pd = hm.to_pandas()\n",
    "hm_pd.index = hm.columns\n",
    "fig = px.imshow(\n",
    "    hm_pd,\n",
    "    color_continuous_scale=\"ice\",\n",
    "    # zmin=50,\n",
    "    labels=dict(color=\"Label overlap (%)\", x=\"LLM\", y=\"LLM\"),\n",
    ")\n",
    "fig.update_layout(\n",
    "    width=600,\n",
    "    height=500,\n",
    "    xaxis=dict(showgrid=False),\n",
    "    yaxis=dict(showgrid=False),\n",
    "    plot_bgcolor=\"rgba(0, 0, 0, 0.1)\",\n",
    ")"
   ]
  },
  {
   "cell_type": "code",
   "execution_count": null,
   "metadata": {},
   "outputs": [],
   "source": [
    "value_counts.head()"
   ]
  },
  {
   "cell_type": "code",
   "execution_count": null,
   "metadata": {},
   "outputs": [],
   "source": [
    "sorted_classes = value_counts.group_by(\"class\").agg(pl.sum(\"count\")).sort(\"count\", descending=True)"
   ]
  },
  {
   "cell_type": "code",
   "execution_count": null,
   "metadata": {},
   "outputs": [],
   "source": [
    "vc_filt = (\n",
    "    value_counts.fill_null(\"N/A\")\n",
    "    .filter(pl.col(\"class\") != \"N/A\")\n",
    "    .with_columns(\n",
    "        (pl.col(\"count\") / pl.col(\"count\").sum())\n",
    "        .over(\"model\")\n",
    "        .alias(\"normalized_counts\")\n",
    "    )\n",
    ")"
   ]
  },
  {
   "cell_type": "code",
   "execution_count": null,
   "metadata": {},
   "outputs": [],
   "source": [
    "plt_vc = vc_filt.sort(\n",
    "    pl.col(\"normalized_counts\").sum().over(\"class\"),\n",
    "    descending=True,\n",
    "    maintain_order=True,\n",
    ")"
   ]
  },
  {
   "cell_type": "code",
   "execution_count": null,
   "metadata": {},
   "outputs": [],
   "source": [
    "fig = px.line_polar(\n",
    "    plt_vc,\n",
    "    r=\"normalized_counts\",\n",
    "    theta=\"class\",\n",
    "    color=\"model\",\n",
    "    line_close=True,\n",
    "    log_r=True,\n",
    "    height=550,\n",
    ").update_traces(\n",
    "    visible=\"legendonly\", selector=lambda x: x[\"name\"] not in [\"Llama-3.1-8b\", \"Falcon-3-7b\"]\n",
    ")\n",
    "fig = fig.update_layout(\n",
    "    legend=dict(orientation=\"h\", yanchor=\"top\", y=-0.2, xanchor=\"left\", x=0),\n",
    "    polar=dict(\n",
    "        radialaxis=dict(range=[np.log10(plt_vc['normalized_counts'].min()), np.log10(plt_vc[\"normalized_counts\"].max() * 1.1)])\n",
    "    ),\n",
    ")\n",
    "pt.save(fig, \"polar_plot_value_counts\")"
   ]
  },
  {
   "cell_type": "code",
   "execution_count": null,
   "metadata": {},
   "outputs": [],
   "source": [
    "value_counts_all_eq = aligned_categories.filter(pl.col(\"all_equal\"))[\n",
    "    models[0]\n",
    "].value_counts(sort=True)\n",
    "value_counts_all_eq['count'].sum()"
   ]
  },
  {
   "cell_type": "code",
   "execution_count": null,
   "metadata": {},
   "outputs": [],
   "source": [
    "fig = px.bar(\n",
    "    value_counts_all_eq,\n",
    "    x=models[0],\n",
    "    y=\"count\",\n",
    "    labels={models[0]: \"Category\", \"count\": \"Emails\"},\n",
    "    width=450,\n",
    "    height=500,\n",
    "    log_y=True,\n",
    ")\n",
    "fig.update_traces(\n",
    "    marker_color=\"limegreen\",\n",
    ")\n",
    "fig.update_layout(\n",
    "    updatemenus=[\n",
    "        dict(\n",
    "            type=\"buttons\",\n",
    "            xanchor=\"left\",\n",
    "            yanchor=\"bottom\",\n",
    "            showactive=True,\n",
    "            direction=\"right\",\n",
    "            x=0,\n",
    "            y=1,\n",
    "            buttons=[\n",
    "                dict(\n",
    "                    label=\"Log scale\",\n",
    "                    method=\"relayout\",\n",
    "                    args=[{\"yaxis.type\": \"log\"}],\n",
    "                ),\n",
    "                dict(\n",
    "                    label=\"Linear scale\",\n",
    "                    method=\"relayout\",\n",
    "                    args=[{\"yaxis.type\": \"linear\"}],\n",
    "                ),\n",
    "            ],\n",
    "        )\n",
    "    ],\n",
    ")"
   ]
  },
  {
   "cell_type": "code",
   "execution_count": null,
   "metadata": {},
   "outputs": [],
   "source": []
  }
 ],
 "metadata": {
  "kernelspec": {
   "display_name": ".venv",
   "language": "python",
   "name": "python3"
  },
  "language_info": {
   "codemirror_mode": {
    "name": "ipython",
    "version": 3
   },
   "file_extension": ".py",
   "mimetype": "text/x-python",
   "name": "python",
   "nbconvert_exporter": "python",
   "pygments_lexer": "ipython3",
   "version": "3.12.9"
  }
 },
 "nbformat": 4,
 "nbformat_minor": 2
}
