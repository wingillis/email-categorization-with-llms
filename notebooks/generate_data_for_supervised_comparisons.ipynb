{
 "cells": [
  {
   "cell_type": "code",
   "execution_count": 1,
   "metadata": {},
   "outputs": [],
   "source": [
    "import polars as pl\n",
    "from pathlib import Path\n",
    "from toolz import groupby, valmap, keyfilter, concat\n",
    "from scipy.stats import entropy"
   ]
  },
  {
   "cell_type": "code",
   "execution_count": null,
   "metadata": {},
   "outputs": [],
   "source": [
    "folder = Path(f\"../structured_output\")\n",
    "files = sorted(folder.glob(\"*structured_output_df.parquet\"))"
   ]
  },
  {
   "cell_type": "code",
   "execution_count": null,
   "metadata": {},
   "outputs": [],
   "source": [
    "def load(path: Path):\n",
    "    df = pl.read_parquet(path)\n",
    "    return df"
   ]
  },
  {
   "cell_type": "code",
   "execution_count": null,
   "metadata": {},
   "outputs": [],
   "source": [
    "data = {k.stem: load(k) for k in files}\n",
    "grouped_data = groupby(len, data.values())"
   ]
  },
  {
   "cell_type": "code",
   "execution_count": 5,
   "metadata": {},
   "outputs": [
    {
     "data": {
      "text/plain": [
       "{9996: 13, 23992: 3}"
      ]
     },
     "execution_count": 5,
     "metadata": {},
     "output_type": "execute_result"
    }
   ],
   "source": [
    "valmap(len, grouped_data)"
   ]
  },
  {
   "cell_type": "code",
   "execution_count": 6,
   "metadata": {},
   "outputs": [],
   "source": [
    "concat_dfs = pl.concat(concat(grouped_data.values()))"
   ]
  },
  {
   "cell_type": "code",
   "execution_count": 7,
   "metadata": {},
   "outputs": [],
   "source": [
    "models = concat_dfs['model'].unique().to_list()"
   ]
  },
  {
   "cell_type": "code",
   "execution_count": null,
   "metadata": {},
   "outputs": [
    {
     "data": {
      "text/plain": [
       "0.14995998399359745"
      ]
     },
     "execution_count": 8,
     "metadata": {},
     "output_type": "execute_result"
    }
   ],
   "source": [
    "cat_col = \"primary_category\"\n",
    "aligned_categories = concat_dfs.pivot(\n",
    "    index=[\"date\", \"body\", \"from\", \"subject\"], on=\"model\", values=cat_col, aggregate_function=\"first\"\n",
    ").with_columns(\n",
    "    all_equal=pl.concat_list(models).list.n_unique() == 1\n",
    ").drop_nulls(subset=models)\n",
    "aligned_categories['all_equal'].mean()"
   ]
  },
  {
   "cell_type": "code",
   "execution_count": 9,
   "metadata": {},
   "outputs": [],
   "source": [
    "# remove examples from prior supervised datasets (don't need to relabel for this experiment)\n",
    "for _file in Path(\"..\").glob(\"training_dataset_with_labels*.parquet\"):\n",
    "    tmp_df = pl.read_parquet(_file).drop_nulls(subset=[\"supervised_label\"])\n",
    "    aligned_categories = aligned_categories.join(tmp_df, on=[\"date\", \"body\", \"from\"], how=\"anti\")"
   ]
  },
  {
   "cell_type": "code",
   "execution_count": 10,
   "metadata": {},
   "outputs": [
    {
     "data": {
      "text/plain": [
       "(9298, 21)"
      ]
     },
     "execution_count": 10,
     "metadata": {},
     "output_type": "execute_result"
    }
   ],
   "source": [
    "aligned_categories.shape"
   ]
  },
  {
   "cell_type": "code",
   "execution_count": null,
   "metadata": {},
   "outputs": [
    {
     "data": {
      "text/html": [
       "<div><style>\n",
       ".dataframe > thead > tr,\n",
       ".dataframe > tbody > tr {\n",
       "  text-align: right;\n",
       "  white-space: pre-wrap;\n",
       "}\n",
       "</style>\n",
       "<small>shape: (8, 2)</small><table border=\"1\" class=\"dataframe\"><thead><tr><th>Qwen-2.5-1.5b</th><th>len</th></tr><tr><td>str</td><td>u32</td></tr></thead><tbody><tr><td>&quot;Travel, scheduling and calenda…</td><td>6</td></tr><tr><td>&quot;Financial information&quot;</td><td>22</td></tr><tr><td>&quot;News alerts and newsletters&quot;</td><td>130</td></tr><tr><td>&quot;Customer service and support&quot;</td><td>4</td></tr><tr><td>&quot;Promotional emails&quot;</td><td>703</td></tr><tr><td>&quot;Shopping and order confirmatio…</td><td>120</td></tr><tr><td>&quot;Personal or professional corre…</td><td>26</td></tr><tr><td>&quot;Programming, educational, and …</td><td>433</td></tr></tbody></table></div>"
      ],
      "text/plain": [
       "shape: (8, 2)\n",
       "┌─────────────────────────────────┬─────┐\n",
       "│ Qwen-2.5-1.5b                   ┆ len │\n",
       "│ ---                             ┆ --- │\n",
       "│ str                             ┆ u32 │\n",
       "╞═════════════════════════════════╪═════╡\n",
       "│ Travel, scheduling and calenda… ┆ 6   │\n",
       "│ Financial information           ┆ 22  │\n",
       "│ News alerts and newsletters     ┆ 130 │\n",
       "│ Customer service and support    ┆ 4   │\n",
       "│ Promotional emails              ┆ 703 │\n",
       "│ Shopping and order confirmatio… ┆ 120 │\n",
       "│ Personal or professional corre… ┆ 26  │\n",
       "│ Programming, educational, and … ┆ 433 │\n",
       "└─────────────────────────────────┴─────┘"
      ]
     },
     "execution_count": 11,
     "metadata": {},
     "output_type": "execute_result"
    }
   ],
   "source": [
    "# create a sample of emails where all models agree\n",
    "# should have the same number of emails for each category\n",
    "filtered = aligned_categories.filter(pl.col(\"all_equal\"))\n",
    "filtered.group_by(models[0]).agg(pl.len())"
   ]
  },
  {
   "cell_type": "code",
   "execution_count": null,
   "metadata": {},
   "outputs": [
    {
     "data": {
      "text/plain": [
       "70"
      ]
     },
     "execution_count": 12,
     "metadata": {},
     "output_type": "execute_result"
    }
   ],
   "source": [
    "agree_sample = pl.concat(\n",
    "    df.sample(n=min(10, len(df)), seed=1)\n",
    "    for df in filtered.partition_by(models[0])\n",
    ")\n",
    "len(agree_sample)"
   ]
  },
  {
   "cell_type": "code",
   "execution_count": 13,
   "metadata": {},
   "outputs": [
    {
     "data": {
      "text/plain": [
       "(70, 21)"
      ]
     },
     "execution_count": 13,
     "metadata": {},
     "output_type": "execute_result"
    }
   ],
   "source": [
    "agree_sample.shape"
   ]
  },
  {
   "cell_type": "code",
   "execution_count": 14,
   "metadata": {},
   "outputs": [
    {
     "name": "stdout",
     "output_type": "stream",
     "text": [
      "shape: (3, 2)\n",
      "┌─────────────────────────────────┬───────┐\n",
      "│ categories                      ┆ count │\n",
      "│ ---                             ┆ ---   │\n",
      "│ str                             ┆ u32   │\n",
      "╞═════════════════════════════════╪═══════╡\n",
      "│ Customer service and support    ┆ 1     │\n",
      "│ Account security and privacy    ┆ 14    │\n",
      "│ Personal or professional corre… ┆ 1     │\n",
      "└─────────────────────────────────┴───────┘\n",
      "0.46341355882643\n"
     ]
    }
   ],
   "source": [
    "# create a sample of emails where the models (almost) maximally disagree\n",
    "unequal_filtered = aligned_categories.filter(~pl.col(\"all_equal\"))\n",
    "\n",
    "entropies = []\n",
    "for i, _data in enumerate(unequal_filtered[models].iter_rows()):\n",
    "    vcs = pl.Series(\"categories\", _data).value_counts()\n",
    "    entropies.append(entropy(vcs[\"count\"]))\n",
    "    if i == 0:\n",
    "        print(vcs)\n",
    "        print(entropies[0])\n",
    "\n",
    "unequal_filtered = unequal_filtered.with_columns(pl.Series(\"entropy\", entropies)).sort(\n",
    "    \"entropy\", descending=True\n",
    ")\n",
    "low_entropy_sample = unequal_filtered[-75:].drop(\"entropy\")\n",
    "disagree_sample = unequal_filtered[:150].drop(\"entropy\")"
   ]
  },
  {
   "cell_type": "code",
   "execution_count": 15,
   "metadata": {},
   "outputs": [],
   "source": [
    "# create a sample of emails in between the two extremes\n",
    "mid = len(unequal_filtered) // 2\n",
    "middle_sample = unequal_filtered[mid - 75:mid + 75].drop(\"entropy\")"
   ]
  },
  {
   "cell_type": "code",
   "execution_count": 16,
   "metadata": {},
   "outputs": [
    {
     "data": {
      "text/html": [
       "<div><style>\n",
       ".dataframe > thead > tr,\n",
       ".dataframe > tbody > tr {\n",
       "  text-align: right;\n",
       "  white-space: pre-wrap;\n",
       "}\n",
       "</style>\n",
       "<small>shape: (2, 21)</small><table border=\"1\" class=\"dataframe\"><thead><tr><th>date</th><th>body</th><th>from</th><th>subject</th><th>Command-R-7b</th><th>Dolphin-3</th><th>Falcon-3-3b</th><th>Falcon-3-7b</th><th>InternLM-3</th><th>Llama-3.1-8b</th><th>Llama-3.2-3b</th><th>Marco-o1</th><th>Nemo</th><th>Qwen-2.5-1.5b</th><th>Qwen-2.5-3b</th><th>Qwen-2.5-7b</th><th>Smallthinker</th><th>Granite-3.1-2b</th><th>Granite-3.1-8b</th><th>Tulu-3</th><th>all_equal</th></tr><tr><td>datetime[μs, UTC]</td><td>str</td><td>str</td><td>str</td><td>str</td><td>str</td><td>str</td><td>str</td><td>str</td><td>str</td><td>str</td><td>str</td><td>str</td><td>str</td><td>str</td><td>str</td><td>str</td><td>str</td><td>str</td><td>str</td><td>bool</td></tr></thead><tbody><tr><td>2016-04-18 15:09:56 UTC</td><td>&quot;*** Top Meetups for you ***\r\n",
       "\r…</td><td>&quot;Meetup &lt;info@meetup.com&gt;&quot;</td><td>&quot;Meetups this week with: Azurit…</td><td>&quot;News alerts and newsletters&quot;</td><td>&quot;Promotional emails&quot;</td><td>&quot;Travel, scheduling and calenda…</td><td>&quot;Other&quot;</td><td>&quot;Other&quot;</td><td>&quot;News alerts and newsletters&quot;</td><td>&quot;Travel, scheduling and calenda…</td><td>&quot;Other&quot;</td><td>&quot;Promotional emails&quot;</td><td>&quot;Personal or professional corre…</td><td>&quot;Customer service and support&quot;</td><td>&quot;Programming, educational, and …</td><td>&quot;News alerts and newsletters&quot;</td><td>&quot;Medical information&quot;</td><td>&quot;News alerts and newsletters&quot;</td><td>&quot;Shopping and order confirmatio…</td><td>false</td></tr><tr><td>2013-01-30 17:29:43 UTC</td><td>&quot;Hello Students,\r\n",
       "\r\n",
       "REMINDER: T…</td><td>&quot;&quot;Littke, Michelle R&quot; &lt;mlittke@…</td><td>&quot;LAST DAY TO ADD CLASSES&quot;</td><td>&quot;Other&quot;</td><td>&quot;Programming, educational, and …</td><td>&quot;Travel, scheduling and calenda…</td><td>&quot;Travel, scheduling and calenda…</td><td>&quot;News alerts and newsletters&quot;</td><td>&quot;Travel, scheduling and calenda…</td><td>&quot;Travel, scheduling and calenda…</td><td>&quot;Personal or professional corre…</td><td>&quot;Programming, educational, and …</td><td>&quot;Promotional emails&quot;</td><td>&quot;Customer service and support&quot;</td><td>&quot;Programming, educational, and …</td><td>&quot;News alerts and newsletters&quot;</td><td>&quot;Account security and privacy&quot;</td><td>&quot;Account security and privacy&quot;</td><td>&quot;Shopping and order confirmatio…</td><td>false</td></tr></tbody></table></div>"
      ],
      "text/plain": [
       "shape: (2, 21)\n",
       "┌───────────┬───────────┬───────────┬───────────┬───┬───────────┬───────────┬───────────┬──────────┐\n",
       "│ date      ┆ body      ┆ from      ┆ subject   ┆ … ┆ Granite-3 ┆ Granite-3 ┆ Tulu-3    ┆ all_equa │\n",
       "│ ---       ┆ ---       ┆ ---       ┆ ---       ┆   ┆ .1-2b     ┆ .1-8b     ┆ ---       ┆ l        │\n",
       "│ datetime[ ┆ str       ┆ str       ┆ str       ┆   ┆ ---       ┆ ---       ┆ str       ┆ ---      │\n",
       "│ μs, UTC]  ┆           ┆           ┆           ┆   ┆ str       ┆ str       ┆           ┆ bool     │\n",
       "╞═══════════╪═══════════╪═══════════╪═══════════╪═══╪═══════════╪═══════════╪═══════════╪══════════╡\n",
       "│ 2016-04-1 ┆ *** Top   ┆ Meetup    ┆ Meetups   ┆ … ┆ Medical   ┆ News      ┆ Shopping  ┆ false    │\n",
       "│ 8         ┆ Meetups   ┆ <info@mee ┆ this week ┆   ┆ informati ┆ alerts    ┆ and order ┆          │\n",
       "│ 15:09:56  ┆ for you   ┆ tup.com>  ┆ with:     ┆   ┆ on        ┆ and newsl ┆ confirmat ┆          │\n",
       "│ UTC       ┆ ***\n",
       "      ┆           ┆ Azurit…   ┆   ┆           ┆ etters    ┆ io…       ┆          │\n",
       "│           ┆ \n",
       "…        ┆           ┆           ┆   ┆           ┆           ┆           ┆          │\n",
       "│ 2013-01-3 ┆ Hello Stu ┆ \"Littke,  ┆ LAST DAY  ┆ … ┆ Account   ┆ Account   ┆ Shopping  ┆ false    │\n",
       "│ 0         ┆ dents,\n",
       "   ┆ Michelle  ┆ TO ADD    ┆   ┆ security  ┆ security  ┆ and order ┆          │\n",
       "│ 17:29:43  ┆ \n",
       "         ┆ R\" <mlitt ┆ CLASSES   ┆   ┆ and       ┆ and       ┆ confirmat ┆          │\n",
       "│ UTC       ┆ REMINDER: ┆ ke@…      ┆           ┆   ┆ privacy   ┆ privacy   ┆ io…       ┆          │\n",
       "│           ┆ T…        ┆           ┆           ┆   ┆           ┆           ┆           ┆          │\n",
       "└───────────┴───────────┴───────────┴───────────┴───┴───────────┴───────────┴───────────┴──────────┘"
      ]
     },
     "execution_count": 16,
     "metadata": {},
     "output_type": "execute_result"
    }
   ],
   "source": [
    "disagree_sample.head(2)"
   ]
  },
  {
   "cell_type": "code",
   "execution_count": 17,
   "metadata": {},
   "outputs": [
    {
     "data": {
      "text/html": [
       "<div><style>\n",
       ".dataframe > thead > tr,\n",
       ".dataframe > tbody > tr {\n",
       "  text-align: right;\n",
       "  white-space: pre-wrap;\n",
       "}\n",
       "</style>\n",
       "<small>shape: (2, 21)</small><table border=\"1\" class=\"dataframe\"><thead><tr><th>date</th><th>body</th><th>from</th><th>subject</th><th>Command-R-7b</th><th>Dolphin-3</th><th>Falcon-3-3b</th><th>Falcon-3-7b</th><th>InternLM-3</th><th>Llama-3.1-8b</th><th>Llama-3.2-3b</th><th>Marco-o1</th><th>Nemo</th><th>Qwen-2.5-1.5b</th><th>Qwen-2.5-3b</th><th>Qwen-2.5-7b</th><th>Smallthinker</th><th>Granite-3.1-2b</th><th>Granite-3.1-8b</th><th>Tulu-3</th><th>all_equal</th></tr><tr><td>datetime[μs, UTC]</td><td>str</td><td>str</td><td>str</td><td>str</td><td>str</td><td>str</td><td>str</td><td>str</td><td>str</td><td>str</td><td>str</td><td>str</td><td>str</td><td>str</td><td>str</td><td>str</td><td>str</td><td>str</td><td>str</td><td>bool</td></tr></thead><tbody><tr><td>2024-02-12 17:31:42 UTC</td><td>&quot;Blaze Pizza | Fast Fire&#x27;d\r\n",
       "\r\n",
       "-…</td><td>&quot;Blaze Pizza &lt;no_reply_at_Blaze…</td><td>&quot;See which Pizza was Made for Y…</td><td>&quot;Promotional emails&quot;</td><td>&quot;Promotional emails&quot;</td><td>&quot;Promotional emails&quot;</td><td>&quot;Promotional emails&quot;</td><td>&quot;Promotional emails&quot;</td><td>&quot;Promotional emails&quot;</td><td>&quot;Promotional emails&quot;</td><td>&quot;Promotional emails&quot;</td><td>&quot;Promotional emails&quot;</td><td>&quot;Promotional emails&quot;</td><td>&quot;Promotional emails&quot;</td><td>&quot;Promotional emails&quot;</td><td>&quot;Promotional emails&quot;</td><td>&quot;Shopping and order confirmatio…</td><td>&quot;Promotional emails&quot;</td><td>&quot;Promotional emails&quot;</td><td>false</td></tr><tr><td>2014-01-18 00:06:50 UTC</td><td>&quot;\r\n",
       "\r\n",
       "Your Weekly Summary Saturd…</td><td>&quot;&quot;Mint.com&quot; &lt;team@mint.com&gt;&quot;</td><td>&quot;Your Weekly Financial Summary …</td><td>&quot;Financial information&quot;</td><td>&quot;Financial information&quot;</td><td>&quot;Financial information&quot;</td><td>&quot;Financial information&quot;</td><td>&quot;Financial information&quot;</td><td>&quot;Financial information&quot;</td><td>&quot;Shopping and order confirmatio…</td><td>&quot;Financial information&quot;</td><td>&quot;Financial information&quot;</td><td>&quot;Financial information&quot;</td><td>&quot;Financial information&quot;</td><td>&quot;Financial information&quot;</td><td>&quot;Financial information&quot;</td><td>&quot;Financial information&quot;</td><td>&quot;Financial information&quot;</td><td>&quot;Financial information&quot;</td><td>false</td></tr></tbody></table></div>"
      ],
      "text/plain": [
       "shape: (2, 21)\n",
       "┌───────────┬───────────┬───────────┬───────────┬───┬───────────┬───────────┬───────────┬──────────┐\n",
       "│ date      ┆ body      ┆ from      ┆ subject   ┆ … ┆ Granite-3 ┆ Granite-3 ┆ Tulu-3    ┆ all_equa │\n",
       "│ ---       ┆ ---       ┆ ---       ┆ ---       ┆   ┆ .1-2b     ┆ .1-8b     ┆ ---       ┆ l        │\n",
       "│ datetime[ ┆ str       ┆ str       ┆ str       ┆   ┆ ---       ┆ ---       ┆ str       ┆ ---      │\n",
       "│ μs, UTC]  ┆           ┆           ┆           ┆   ┆ str       ┆ str       ┆           ┆ bool     │\n",
       "╞═══════════╪═══════════╪═══════════╪═══════════╪═══╪═══════════╪═══════════╪═══════════╪══════════╡\n",
       "│ 2024-02-1 ┆ Blaze     ┆ Blaze     ┆ See which ┆ … ┆ Shopping  ┆ Promotion ┆ Promotion ┆ false    │\n",
       "│ 2         ┆ Pizza |   ┆ Pizza <no ┆ Pizza was ┆   ┆ and order ┆ al emails ┆ al emails ┆          │\n",
       "│ 17:31:42  ┆ Fast      ┆ _reply_at ┆ Made for  ┆   ┆ confirmat ┆           ┆           ┆          │\n",
       "│ UTC       ┆ Fire'd\n",
       "   ┆ _Blaze…   ┆ Y…        ┆   ┆ io…       ┆           ┆           ┆          │\n",
       "│           ┆ \n",
       "         ┆           ┆           ┆   ┆           ┆           ┆           ┆          │\n",
       "│           ┆ -…        ┆           ┆           ┆   ┆           ┆           ┆           ┆          │\n",
       "│ 2014-01-1 ┆ \n",
       "         ┆ \"Mint.com ┆ Your      ┆ … ┆ Financial ┆ Financial ┆ Financial ┆ false    │\n",
       "│ 8         ┆ \n",
       "         ┆ \" <team@m ┆ Weekly    ┆   ┆ informati ┆ informati ┆ informati ┆          │\n",
       "│ 00:06:50  ┆ Your      ┆ int.com>  ┆ Financial ┆   ┆ on        ┆ on        ┆ on        ┆          │\n",
       "│ UTC       ┆ Weekly    ┆           ┆ Summary … ┆   ┆           ┆           ┆           ┆          │\n",
       "│           ┆ Summary   ┆           ┆           ┆   ┆           ┆           ┆           ┆          │\n",
       "│           ┆ Saturd…   ┆           ┆           ┆   ┆           ┆           ┆           ┆          │\n",
       "└───────────┴───────────┴───────────┴───────────┴───┴───────────┴───────────┴───────────┴──────────┘"
      ]
     },
     "execution_count": 17,
     "metadata": {},
     "output_type": "execute_result"
    }
   ],
   "source": [
    "low_entropy_sample.head(2)"
   ]
  },
  {
   "cell_type": "code",
   "execution_count": 18,
   "metadata": {},
   "outputs": [
    {
     "data": {
      "text/html": [
       "<div><style>\n",
       ".dataframe > thead > tr,\n",
       ".dataframe > tbody > tr {\n",
       "  text-align: right;\n",
       "  white-space: pre-wrap;\n",
       "}\n",
       "</style>\n",
       "<small>shape: (2, 21)</small><table border=\"1\" class=\"dataframe\"><thead><tr><th>date</th><th>body</th><th>from</th><th>subject</th><th>Command-R-7b</th><th>Dolphin-3</th><th>Falcon-3-3b</th><th>Falcon-3-7b</th><th>InternLM-3</th><th>Llama-3.1-8b</th><th>Llama-3.2-3b</th><th>Marco-o1</th><th>Nemo</th><th>Qwen-2.5-1.5b</th><th>Qwen-2.5-3b</th><th>Qwen-2.5-7b</th><th>Smallthinker</th><th>Granite-3.1-2b</th><th>Granite-3.1-8b</th><th>Tulu-3</th><th>all_equal</th></tr><tr><td>datetime[μs, UTC]</td><td>str</td><td>str</td><td>str</td><td>str</td><td>str</td><td>str</td><td>str</td><td>str</td><td>str</td><td>str</td><td>str</td><td>str</td><td>str</td><td>str</td><td>str</td><td>str</td><td>str</td><td>str</td><td>str</td><td>bool</td></tr></thead><tbody><tr><td>2017-07-15 19:28:23 UTC</td><td>&quot;\r\n",
       "\r\n",
       "&lt;!DOCTYPE HTML PUBLIC &quot;-//…</td><td>&quot;Venmo &lt;venmo@venmo.com&gt;&quot;</td><td>&quot;You completed Momchil Tomov&#x27;s …</td><td>&quot;Financial information&quot;</td><td>&quot;Financial information&quot;</td><td>&quot;Financial information&quot;</td><td>&quot;Financial information&quot;</td><td>&quot;Financial information&quot;</td><td>&quot;Financial information&quot;</td><td>&quot;Shopping and order confirmatio…</td><td>&quot;Financial information&quot;</td><td>&quot;Financial information&quot;</td><td>&quot;Personal or professional corre…</td><td>&quot;Financial information&quot;</td><td>&quot;Shopping and order confirmatio…</td><td>&quot;Promotional emails&quot;</td><td>&quot;Financial information&quot;</td><td>&quot;Financial information&quot;</td><td>&quot;Financial information&quot;</td><td>false</td></tr><tr><td>2018-06-10 14:36:16 UTC</td><td>&quot;\r\n",
       "\r\n",
       "&lt;!DOCTYPE HTML PUBLIC &quot;-//…</td><td>&quot;Venmo &lt;venmo@venmo.com&gt;&quot;</td><td>&quot;You paid Sebastian Van Dyck $9…</td><td>&quot;Financial information&quot;</td><td>&quot;Account security and privacy&quot;</td><td>&quot;Financial information&quot;</td><td>&quot;Financial information&quot;</td><td>&quot;Financial information&quot;</td><td>&quot;Financial information&quot;</td><td>&quot;Shopping and order confirmatio…</td><td>&quot;Financial information&quot;</td><td>&quot;Financial information&quot;</td><td>&quot;Personal or professional corre…</td><td>&quot;Financial information&quot;</td><td>&quot;Financial information&quot;</td><td>&quot;Financial information&quot;</td><td>&quot;Shopping and order confirmatio…</td><td>&quot;Financial information&quot;</td><td>&quot;Financial information&quot;</td><td>false</td></tr></tbody></table></div>"
      ],
      "text/plain": [
       "shape: (2, 21)\n",
       "┌───────────┬───────────┬───────────┬───────────┬───┬───────────┬───────────┬───────────┬──────────┐\n",
       "│ date      ┆ body      ┆ from      ┆ subject   ┆ … ┆ Granite-3 ┆ Granite-3 ┆ Tulu-3    ┆ all_equa │\n",
       "│ ---       ┆ ---       ┆ ---       ┆ ---       ┆   ┆ .1-2b     ┆ .1-8b     ┆ ---       ┆ l        │\n",
       "│ datetime[ ┆ str       ┆ str       ┆ str       ┆   ┆ ---       ┆ ---       ┆ str       ┆ ---      │\n",
       "│ μs, UTC]  ┆           ┆           ┆           ┆   ┆ str       ┆ str       ┆           ┆ bool     │\n",
       "╞═══════════╪═══════════╪═══════════╪═══════════╪═══╪═══════════╪═══════════╪═══════════╪══════════╡\n",
       "│ 2017-07-1 ┆ \n",
       "         ┆ Venmo <ve ┆ You       ┆ … ┆ Financial ┆ Financial ┆ Financial ┆ false    │\n",
       "│ 5         ┆ \n",
       "         ┆ nmo@venmo ┆ completed ┆   ┆ informati ┆ informati ┆ informati ┆          │\n",
       "│ 19:28:23  ┆ <!DOCTYPE ┆ .com>     ┆ Momchil   ┆   ┆ on        ┆ on        ┆ on        ┆          │\n",
       "│ UTC       ┆ HTML      ┆           ┆ Tomov's … ┆   ┆           ┆           ┆           ┆          │\n",
       "│           ┆ PUBLIC    ┆           ┆           ┆   ┆           ┆           ┆           ┆          │\n",
       "│           ┆ \"-//…     ┆           ┆           ┆   ┆           ┆           ┆           ┆          │\n",
       "│ 2018-06-1 ┆ \n",
       "         ┆ Venmo <ve ┆ You paid  ┆ … ┆ Shopping  ┆ Financial ┆ Financial ┆ false    │\n",
       "│ 0         ┆ \n",
       "         ┆ nmo@venmo ┆ Sebastian ┆   ┆ and order ┆ informati ┆ informati ┆          │\n",
       "│ 14:36:16  ┆ <!DOCTYPE ┆ .com>     ┆ Van Dyck  ┆   ┆ confirmat ┆ on        ┆ on        ┆          │\n",
       "│ UTC       ┆ HTML      ┆           ┆ $9…       ┆   ┆ io…       ┆           ┆           ┆          │\n",
       "│           ┆ PUBLIC    ┆           ┆           ┆   ┆           ┆           ┆           ┆          │\n",
       "│           ┆ \"-//…     ┆           ┆           ┆   ┆           ┆           ┆           ┆          │\n",
       "└───────────┴───────────┴───────────┴───────────┴───┴───────────┴───────────┴───────────┴──────────┘"
      ]
     },
     "execution_count": 18,
     "metadata": {},
     "output_type": "execute_result"
    }
   ],
   "source": [
    "middle_sample.head(2)"
   ]
  },
  {
   "cell_type": "code",
   "execution_count": null,
   "metadata": {},
   "outputs": [
    {
     "data": {
      "text/html": [
       "<div><style>\n",
       ".dataframe > thead > tr,\n",
       ".dataframe > tbody > tr {\n",
       "  text-align: right;\n",
       "  white-space: pre-wrap;\n",
       "}\n",
       "</style>\n",
       "<small>shape: (10, 2)</small><table border=\"1\" class=\"dataframe\"><thead><tr><th>primary_category</th><th>count</th></tr><tr><td>str</td><td>u32</td></tr></thead><tbody><tr><td>&quot;Programming, educational, and …</td><td>37418</td></tr><tr><td>&quot;News alerts and newsletters&quot;</td><td>22434</td></tr><tr><td>&quot;Shopping and order confirmatio…</td><td>19583</td></tr><tr><td>&quot;Financial information&quot;</td><td>16421</td></tr><tr><td>&quot;Personal or professional corre…</td><td>12341</td></tr><tr><td>&quot;Travel, scheduling and calenda…</td><td>7281</td></tr><tr><td>&quot;Other&quot;</td><td>6932</td></tr><tr><td>&quot;Account security and privacy&quot;</td><td>6058</td></tr><tr><td>&quot;Customer service and support&quot;</td><td>4646</td></tr><tr><td>&quot;Medical information&quot;</td><td>1579</td></tr></tbody></table></div>"
      ],
      "text/plain": [
       "shape: (10, 2)\n",
       "┌─────────────────────────────────┬───────┐\n",
       "│ primary_category                ┆ count │\n",
       "│ ---                             ┆ ---   │\n",
       "│ str                             ┆ u32   │\n",
       "╞═════════════════════════════════╪═══════╡\n",
       "│ Programming, educational, and … ┆ 37418 │\n",
       "│ News alerts and newsletters     ┆ 22434 │\n",
       "│ Shopping and order confirmatio… ┆ 19583 │\n",
       "│ Financial information           ┆ 16421 │\n",
       "│ Personal or professional corre… ┆ 12341 │\n",
       "│ Travel, scheduling and calenda… ┆ 7281  │\n",
       "│ Other                           ┆ 6932  │\n",
       "│ Account security and privacy    ┆ 6058  │\n",
       "│ Customer service and support    ┆ 4646  │\n",
       "│ Medical information             ┆ 1579  │\n",
       "└─────────────────────────────────┴───────┘"
      ]
     },
     "execution_count": 19,
     "metadata": {},
     "output_type": "execute_result"
    }
   ],
   "source": [
    "val_counts = concat_dfs['primary_category'].value_counts(sort=True).filter(pl.col(\"primary_category\") != \"N/A\")\n",
    "val_counts.tail(10)"
   ]
  },
  {
   "cell_type": "code",
   "execution_count": 20,
   "metadata": {},
   "outputs": [
    {
     "data": {
      "text/plain": [
       "['Qwen-2.5-1.5b',\n",
       " 'Qwen-2.5-3b',\n",
       " 'Falcon-3-3b',\n",
       " 'Qwen-2.5-7b',\n",
       " 'Marco-o1',\n",
       " 'Granite-3.1-2b',\n",
       " 'Tulu-3',\n",
       " 'Dolphin-3',\n",
       " 'Falcon-3-7b',\n",
       " 'Granite-3.1-8b',\n",
       " 'Llama-3.2-3b',\n",
       " 'Command-R-7b',\n",
       " 'Smallthinker',\n",
       " 'InternLM-3',\n",
       " 'Nemo',\n",
       " 'Llama-3.1-8b']"
      ]
     },
     "execution_count": 20,
     "metadata": {},
     "output_type": "execute_result"
    }
   ],
   "source": [
    "models"
   ]
  },
  {
   "cell_type": "code",
   "execution_count": 21,
   "metadata": {},
   "outputs": [],
   "source": [
    "categories = concat_dfs['primary_category'].unique().to_list()\n",
    "\n",
    "samples = []\n",
    "for cat in categories:\n",
    "    _tmp_df = aligned_categories.with_columns(\n",
    "        pl.fold(pl.lit(False), function=lambda acc, x: acc | x, exprs=[pl.col(m) == cat for m in models]).alias(\"has_category\")\n",
    "    ).filter(pl.col(\"has_category\"))\n",
    "    samples.append(_tmp_df.sample(n=min(50, len(_tmp_df)), seed=1))\n",
    "samples = pl.concat(samples).drop(\"has_category\")"
   ]
  },
  {
   "cell_type": "code",
   "execution_count": 22,
   "metadata": {},
   "outputs": [],
   "source": [
    "# concatenate the three samples and save them to a parquet file\n",
    "pl.concat(\n",
    "    [agree_sample, low_entropy_sample, disagree_sample, middle_sample, samples]\n",
    ").unique(keep=\"first\", subset=[\"date\", \"body\", \"from\", \"subject\"]).write_parquet(\n",
    "    \"../training_dataset.parquet\"\n",
    ")"
   ]
  },
  {
   "cell_type": "code",
   "execution_count": null,
   "metadata": {},
   "outputs": [],
   "source": []
  }
 ],
 "metadata": {
  "kernelspec": {
   "display_name": "email",
   "language": "python",
   "name": "python3"
  },
  "language_info": {
   "codemirror_mode": {
    "name": "ipython",
    "version": 3
   },
   "file_extension": ".py",
   "mimetype": "text/x-python",
   "name": "python",
   "nbconvert_exporter": "python",
   "pygments_lexer": "ipython3",
   "version": "3.12.8"
  }
 },
 "nbformat": 4,
 "nbformat_minor": 2
}
