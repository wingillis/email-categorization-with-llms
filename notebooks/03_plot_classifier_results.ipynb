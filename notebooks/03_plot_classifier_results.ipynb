{
 "cells": [
  {
   "cell_type": "code",
   "execution_count": null,
   "metadata": {},
   "outputs": [],
   "source": [
    "import polars as pl\n",
    "import plotly.io as pio\n",
    "import plotly.express as px\n",
    "import plot_theme as pt"
   ]
  },
  {
   "cell_type": "code",
   "execution_count": null,
   "metadata": {},
   "outputs": [],
   "source": [
    "pio.templates.default = \"plotly_white+cc\""
   ]
  },
  {
   "cell_type": "markdown",
   "metadata": {},
   "source": [
    "# Plot top results for each model and llm"
   ]
  },
  {
   "cell_type": "code",
   "execution_count": null,
   "metadata": {},
   "outputs": [],
   "source": [
    "# top_runs = pl.read_parquet(\"../classifier_grid_search/top_classifier_runs_per_type.parquet\")\n",
    "top_runs = pl.concat([\n",
    "    pl.read_parquet(\"../classifier_grid_search/granite_top_results_per_model.parquet\"),\n",
    "    pl.read_parquet(\"../classifier_grid_search/tulu_top_results_per_model.parquet\")\n",
    "])"
   ]
  },
  {
   "cell_type": "code",
   "execution_count": null,
   "metadata": {},
   "outputs": [],
   "source": [
    "model_replacements = {\n",
    "    \"rf\": \"Random forest\",\n",
    "    \"svc\": \"Support vector machine\",\n",
    "    \"gnb\": \"Gaussian Naive Bayes\",\n",
    "    \"lr\": \"Logistic regression\",\n",
    "    \"knn\": \"K-nearest neighbors\"\n",
    "}\n",
    "\n",
    "llm_name = {\n",
    "    \"granite\": \"Granite-3.1-8b\",\n",
    "    \"tulu\": \"Tulu-3\",\n",
    "}\n",
    "\n",
    "top_runs = top_runs.with_columns(\n",
    "    pl.col(\"model\").replace(model_replacements),\n",
    "    pl.col(\"llm\").replace(llm_name),\n",
    ")"
   ]
  },
  {
   "cell_type": "code",
   "execution_count": null,
   "metadata": {},
   "outputs": [],
   "source": [
    "model_order = (\n",
    "    top_runs.group_by(\"model\")\n",
    "    .agg(pl.mean(\"mean_test_score\"))\n",
    "    .sort(\"mean_test_score\")[\"model\"]\n",
    "    .unique(maintain_order=True)\n",
    ")"
   ]
  },
  {
   "cell_type": "code",
   "execution_count": null,
   "metadata": {},
   "outputs": [],
   "source": [
    "fig = px.violin(\n",
    "    top_runs,\n",
    "    x=\"model\",\n",
    "    y=\"f1\",\n",
    "    color=\"llm\",\n",
    "    box=True,\n",
    "    category_orders={\"model\": model_order},\n",
    "    labels={\"f1\": \"F1 score (weighted)\", \"model\": \"Classifier type\", \"llm\": \"LLM\"},\n",
    "    points=False,\n",
    "    violinmode=\"overlay\",\n",
    ")\n",
    "fig = fig.update_layout(\n",
    "    legend=dict(orientation=\"h\", yanchor=\"bottom\", y=1.02, xanchor=\"right\", x=1)\n",
    ").update_traces(hoveron='kde')\n",
    "pt.save(fig, \"f1_scores_per_classifier\")"
   ]
  },
  {
   "cell_type": "markdown",
   "metadata": {},
   "source": [
    "# Compare embeddings with granite svc"
   ]
  },
  {
   "cell_type": "code",
   "execution_count": null,
   "metadata": {},
   "outputs": [],
   "source": [
    "cmp_df = pl.read_parquet(\"../classifier_grid_search/granite_top_model_results_per_embedding.parquet\")"
   ]
  },
  {
   "cell_type": "code",
   "execution_count": null,
   "metadata": {},
   "outputs": [],
   "source": [
    "embedding_map = {\n",
    "    \"snowflake_embedding_clean\": \"Snowflake\",\n",
    "    \"gte_embedding_clean\": \"GTE\",\n",
    "}\n",
    "cmp_df = cmp_df.with_columns(\n",
    "    pl.col(\"embedding\").map_elements(embedding_map.get, return_dtype=pl.String),\n",
    ")"
   ]
  },
  {
   "cell_type": "code",
   "execution_count": null,
   "metadata": {},
   "outputs": [],
   "source": [
    "fig = px.violin(\n",
    "    cmp_df,\n",
    "    x=\"embedding\",\n",
    "    y=\"f1\",\n",
    "    box=True,\n",
    "    color=\"embedding\",\n",
    "    category_orders={\"embedding\": [\"Snowflake\", \"GTE\"]},\n",
    "    points=\"all\",\n",
    "    labels={\"f1\": \"F1 score (weighted)\", \"embedding\": \"Embedding model\"},\n",
    ")\n",
    "fig = fig.update_layout(showlegend=False).update_traces(hoveron=\"points+kde\")\n",
    "pt.save(fig, \"classifier_embedding_comparison\")"
   ]
  },
  {
   "cell_type": "code",
   "execution_count": null,
   "metadata": {},
   "outputs": [],
   "source": []
  }
 ],
 "metadata": {
  "kernelspec": {
   "display_name": ".venv",
   "language": "python",
   "name": "python3"
  },
  "language_info": {
   "codemirror_mode": {
    "name": "ipython",
    "version": 3
   },
   "file_extension": ".py",
   "mimetype": "text/x-python",
   "name": "python",
   "nbconvert_exporter": "python",
   "pygments_lexer": "ipython3",
   "version": "3.12.9"
  }
 },
 "nbformat": 4,
 "nbformat_minor": 2
}
