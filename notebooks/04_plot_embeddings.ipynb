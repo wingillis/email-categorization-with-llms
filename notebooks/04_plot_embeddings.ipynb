{
 "cells": [
  {
   "cell_type": "code",
   "execution_count": null,
   "metadata": {},
   "outputs": [],
   "source": [
    "import numpy as np\n",
    "import polars as pl\n",
    "import seaborn as sns\n",
    "import colorcet as cc\n",
    "import matplotlib.pyplot as plt\n",
    "from umap import UMAP\n",
    "from pathlib import Path\n",
    "from sklearn.decomposition import PCA\n",
    "from scipy.optimize import linear_sum_assignment\n",
    "from sklearn.cluster import AgglomerativeClustering"
   ]
  },
  {
   "cell_type": "markdown",
   "metadata": {},
   "source": [
    "# PCA"
   ]
  },
  {
   "cell_type": "code",
   "execution_count": null,
   "metadata": {},
   "outputs": [],
   "source": [
    "embedding_cols = [\n",
    "    \"gte_embedding_clean\",\n",
    "    \"snowflake_embedding_clean\",\n",
    "]\n",
    "\n",
    "embed_df = (\n",
    "    pl.scan_parquet(\"../emails_with_tokens_and_embeddings.parquet\")\n",
    "    .select([\"from\", \"subject\", *embedding_cols])\n",
    "    .collect()\n",
    ")\n",
    "\n",
    "# this represents ~90% of the variance for the embeddings\n",
    "pcs = {\n",
    "    c: PCA(n_components=250).fit_transform(embed_df[c].to_numpy())\n",
    "    for c in embedding_cols\n",
    "}"
   ]
  },
  {
   "cell_type": "code",
   "execution_count": null,
   "metadata": {},
   "outputs": [],
   "source": [
    "save_path = \"../emails_with_tokens_and_embeddings_with_clusters.parquet\"\n",
    "\n",
    "if not Path(save_path).exists():\n",
    "    # takes a long time to run: ~40 minutes\n",
    "    agg_clustering = AgglomerativeClustering(\n",
    "        n_clusters=10, metric=\"cosine\", linkage=\"complete\"\n",
    "    )\n",
    "\n",
    "    for k, v in pcs.items():\n",
    "        cluster_labels = agg_clustering.fit_predict(v)\n",
    "        embed_df = embed_df.with_columns(\n",
    "            pl.Series(f\"cluster_labels_{k}\", cluster_labels)\n",
    "        )\n",
    "\n",
    "    embed_df.write_parquet(save_path)\n",
    "else:\n",
    "    embed_df = pl.read_parquet(save_path)\n",
    "    cluster_labels = {k: embed_df[f\"cluster_labels_{k}\"] for k in embedding_cols}"
   ]
  },
  {
   "cell_type": "code",
   "execution_count": null,
   "metadata": {},
   "outputs": [],
   "source": [
    "def match_clusters(cluster_labels_1, cluster_labels_2):\n",
    "    cluster_counts = (\n",
    "        pl.DataFrame(\n",
    "            {\n",
    "                \"cluster_1\": cluster_labels_1,\n",
    "                \"cluster_2\": cluster_labels_2,\n",
    "            }\n",
    "        )\n",
    "        .group_by([\"cluster_1\", \"cluster_2\"])\n",
    "        .agg(pl.len())\n",
    "    )\n",
    "\n",
    "    cluster_counts_df = (\n",
    "        cluster_counts.pivot(on=\"cluster_1\", index=\"cluster_2\", values=\"len\")\n",
    "        .fill_null(0)\n",
    "        .to_pandas()\n",
    "        .set_index(\"cluster_2\")\n",
    "    )\n",
    "    cluster_counts_df = cluster_counts_df[\n",
    "        sorted(cluster_counts_df.columns)\n",
    "    ].sort_index()\n",
    "    cluster_counts = cluster_counts_df.to_numpy()\n",
    "\n",
    "    row_ind, col_ind = linear_sum_assignment(-cluster_counts)\n",
    "    return row_ind, col_ind, cluster_counts_df"
   ]
  },
  {
   "cell_type": "code",
   "execution_count": null,
   "metadata": {},
   "outputs": [],
   "source": [
    "row_ind, col_ind, _df = match_clusters(\n",
    "    cluster_labels[\"gte_embedding_clean\"], cluster_labels[\"snowflake_embedding_clean\"]\n",
    ")\n",
    "cluster_2_to_1 = {k: v for k, v in zip(row_ind, col_ind)}\n",
    "cluster_labels[embedding_cols[1]] = np.array(\n",
    "    [cluster_2_to_1[c] for c in cluster_labels[embedding_cols[1]]]\n",
    ")"
   ]
  },
  {
   "cell_type": "code",
   "execution_count": null,
   "metadata": {},
   "outputs": [],
   "source": [
    "title_map = {\n",
    "    \"gte_embedding_clean\": \"gte-base-en-v1.5\",\n",
    "    \"snowflake_embedding_clean\": \"snowflake-arctic-embed-m-v2.0\",\n",
    "}\n",
    "fig, axes = plt.subplots(1, 2, figsize=(6, 3))\n",
    "\n",
    "for ax, (k, v) in zip(axes.flat, cluster_labels.items()):\n",
    "    _pcs = pcs[k]\n",
    "    ax.scatter(\n",
    "        _pcs[:, 0],\n",
    "        _pcs[:, 1],\n",
    "        c=v,\n",
    "        cmap=cc.cm.glasbey,\n",
    "        vmax=255,\n",
    "        s=1.5,\n",
    "        lw=0,\n",
    "        rasterized=True,\n",
    "    )\n",
    "    ax.set(xticks=[], yticks=[], title=title_map[k])\n",
    "    sns.despine(left=True, bottom=True)\n",
    "\n",
    "    # axis embellishment\n",
    "    ax.plot([0, 0.2], [0, 0], transform=ax.transAxes, color=\"k\", lw=3)\n",
    "    ax.plot([0, 0], [0, 0.2], transform=ax.transAxes, color=\"k\", lw=3)\n",
    "    ax.set_xlabel(\"PC1\", x=0, horizontalalignment=\"left\")\n",
    "    ax.set_ylabel(\"PC2\", y=0.08, verticalalignment=\"bottom\")\n",
    "\n",
    "fig.savefig(\"img/pca_clusters.png\", dpi=300, bbox_inches=\"tight\")"
   ]
  },
  {
   "cell_type": "markdown",
   "metadata": {},
   "source": [
    "# UMAP"
   ]
  },
  {
   "cell_type": "code",
   "execution_count": null,
   "metadata": {},
   "outputs": [],
   "source": [
    "# ~ 6 minutes\n",
    "umap_mdl = UMAP(\n",
    "    n_components=2,\n",
    "    n_neighbors=20,\n",
    "    min_dist=0.5,\n",
    "    metric=\"cosine\",\n",
    "    random_state=0,\n",
    "    n_jobs=1,\n",
    ")\n",
    "umap_embedding = {k: umap_mdl.fit_transform(v) for k, v in pcs.items()}"
   ]
  },
  {
   "cell_type": "code",
   "execution_count": null,
   "metadata": {},
   "outputs": [],
   "source": [
    "fig, axes = plt.subplots(1, 2, figsize=(6, 3))\n",
    "\n",
    "for ax, (k, v) in zip(axes.flat, cluster_labels.items()):\n",
    "    _umaps = umap_embedding[k]\n",
    "    ax.scatter(\n",
    "        _umaps[:, 0],\n",
    "        _umaps[:, 1],\n",
    "        c=v,\n",
    "        cmap=cc.cm.glasbey,\n",
    "        vmax=255,\n",
    "        s=1.5,\n",
    "        lw=0,\n",
    "        rasterized=True,\n",
    "    )\n",
    "    ax.set(xticks=[], yticks=[], title=title_map[k])\n",
    "    sns.despine(left=True, bottom=True)\n",
    "\n",
    "    # axis embellishment\n",
    "    ax.plot([0, 0.2], [0, 0], transform=ax.transAxes, color=\"k\", lw=3)\n",
    "    ax.plot([0, 0], [0, 0.2], transform=ax.transAxes, color=\"k\", lw=3)\n",
    "    ax.set_xlabel(\"UMAP1\", x=0, horizontalalignment=\"left\")\n",
    "    ax.set_ylabel(\"UMAP2\", y=0.13, verticalalignment=\"bottom\")\n",
    "\n",
    "fig.savefig(\"img/umap_clusters.png\", dpi=300, bbox_inches=\"tight\")"
   ]
  }
 ],
 "metadata": {
  "kernelspec": {
   "display_name": ".venv",
   "language": "python",
   "name": "python3"
  },
  "language_info": {
   "codemirror_mode": {
    "name": "ipython",
    "version": 3
   },
   "file_extension": ".py",
   "mimetype": "text/x-python",
   "name": "python",
   "nbconvert_exporter": "python",
   "pygments_lexer": "ipython3",
   "version": "3.12.9"
  }
 },
 "nbformat": 4,
 "nbformat_minor": 2
}
